{
 "cells": [
  {
   "cell_type": "markdown",
   "source": [
    "# 什么是回归任务\n",
    "根据历史数据训练模型，未来预测具体数值的任务就是回归任务\n",
    "多元线性回归是众多回归算法中最基础的一个\n",
    "\n",
    "# 什么是多元\n",
    "多元：多个维度  影响预测目标的多个因素 房屋的售价取决多个因素\n",
    "三维平面的线性：就是一个平面\n",
    "更高维度的线性：统称为超平面\n",
    "\n",
    "# 什么是回归\n",
    "回归：就是拟合数据点\n",
    "拟合可以是线性也可以是非线性\n",
    "三维的线性回归：用平面去拟合数据点\n",
    "三维的非线性回归：曲面拟合数据点\n",
    "\n",
    "# 什么是多元线性回归\n",
    "多元线性回归：多元空间使用线形体（直线 平面 超平面）去拟合数据点\n",
    "\n",
    "# 何时使用多元线性回归\n",
    "何时使用：未知情况尝试是否拟合\n",
    "\n",
    "算上Y，其实是N+1维度，N个X，1个Y\n",
    "实际Y和预测Y的均方差（Mean Squared Error）：回归任务常见的损失函数，越小拟合效果越好\n"
   ],
   "metadata": {
    "collapsed": false
   }
  },
  {
   "cell_type": "code",
   "execution_count": null,
   "outputs": [],
   "source": [],
   "metadata": {
    "collapsed": false,
    "ExecuteTime": {
     "end_time": "2024-12-15T02:13:06.662583300Z",
     "start_time": "2024-12-15T02:13:06.651619200Z"
    }
   }
  },
  {
   "cell_type": "code",
   "execution_count": null,
   "outputs": [],
   "source": [],
   "metadata": {
    "collapsed": false
   }
  }
 ],
 "metadata": {
  "kernelspec": {
   "display_name": "Python 3",
   "language": "python",
   "name": "python3"
  },
  "language_info": {
   "codemirror_mode": {
    "name": "ipython",
    "version": 2
   },
   "file_extension": ".py",
   "mimetype": "text/x-python",
   "name": "python",
   "nbconvert_exporter": "python",
   "pygments_lexer": "ipython2",
   "version": "2.7.6"
  }
 },
 "nbformat": 4,
 "nbformat_minor": 0
}
